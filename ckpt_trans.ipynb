{
 "nbformat": 4,
 "nbformat_minor": 2,
 "metadata": {
  "language_info": {
   "name": "python",
   "codemirror_mode": {
    "name": "ipython",
    "version": 3
   },
   "version": "3.6.8-final"
  },
  "orig_nbformat": 2,
  "file_extension": ".py",
  "mimetype": "text/x-python",
  "name": "python",
  "npconvert_exporter": "python",
  "pygments_lexer": "ipython3",
  "version": 3,
  "kernelspec": {
   "name": "python36864bit4865d622d08d4e7c99c47b4bf815673f",
   "display_name": "Python 3.6.8 64-bit"
  }
 },
 "cells": [
  {
   "cell_type": "code",
   "execution_count": 3,
   "metadata": {},
   "outputs": [],
   "source": [
    "import joblib\n",
    "aaa = joblib.load('./checkpoint/ACT1-4.ckpt')\n",
    "bbb = joblib.load('./checkpoint/ACT1_4.ckpt')\n"
   ]
  },
  {
   "cell_type": "code",
   "execution_count": 4,
   "metadata": {},
   "outputs": [
    {
     "data": {
      "text/plain": "dict_keys(['conv1/weights:0', 'conv2/biases:0', 'conv4/weights:0', 'conv3/biases:0', 'conv2/weights:0', 'conv4/biases:0', 'conv1/biases:0', 'conv3/weights:0'])"
     },
     "execution_count": 4,
     "metadata": {},
     "output_type": "execute_result"
    }
   ],
   "source": [
    "aaa.keys()"
   ]
  },
  {
   "cell_type": "code",
   "execution_count": 5,
   "metadata": {},
   "outputs": [
    {
     "data": {
      "text/plain": "dict_keys(['ppo2_model/pi/conv1/weights:0', 'ppo2_model/pi/conv2/weights:0', 'ppo2_model/pi/conv3/weights:0', 'ppo2_model/pi/conv4/weights:0', 'ppo2_model/pi/conv1/biases:0', 'ppo2_model/pi/conv2/biases:0', 'ppo2_model/pi/conv3/biases:0', 'ppo2_model/pi/conv4/biases:0'])"
     },
     "execution_count": 5,
     "metadata": {},
     "output_type": "execute_result"
    }
   ],
   "source": [
    "bbb.keys()"
   ]
  },
  {
   "cell_type": "code",
   "execution_count": 6,
   "metadata": {},
   "outputs": [],
   "source": [
    "bbb['ppo2_model/pi/conv1/weights:0'] = aaa['conv1/weights:0']\n",
    "bbb['ppo2_model/pi/conv2/weights:0'] = aaa['conv2/weights:0']\n",
    "bbb['ppo2_model/pi/conv3/weights:0'] = aaa['conv3/weights:0']\n",
    "bbb['ppo2_model/pi/conv4/weights:0'] = aaa['conv4/weights:0']\n",
    "bbb['ppo2_model/pi/conv1/biases:0'] = aaa['conv1/biases:0']\n",
    "bbb['ppo2_model/pi/conv2/biases:0'] = aaa['conv2/biases:0']\n",
    "bbb['ppo2_model/pi/conv3/biases:0'] = aaa['conv3/biases:0']\n",
    "bbb['ppo2_model/pi/conv4/biases:0'] = aaa['conv4/biases:0']\n"
   ]
  },
  {
   "cell_type": "code",
   "execution_count": 7,
   "metadata": {},
   "outputs": [
    {
     "data": {
      "text/plain": "['./checkpoint/ACT1_4.ckpt']"
     },
     "execution_count": 7,
     "metadata": {},
     "output_type": "execute_result"
    }
   ],
   "source": [
    "joblib.dump(bbb,'./checkpoint/ACT1_4.ckpt')"
   ]
  },
  {
   "cell_type": "code",
   "execution_count": 11,
   "metadata": {},
   "outputs": [
    {
     "name": "stdout",
     "output_type": "stream",
     "text": "(7, 7, 3, 96)\n(256,)\n(3, 3, 512, 512)\n(512,)\n(5, 5, 96, 256)\n(512,)\n(96,)\n(3, 3, 256, 512)\n"
    }
   ],
   "source": [
    "for k,v in aaa.items():\n",
    "    print(v.shape)"
   ]
  },
  {
   "cell_type": "code",
   "execution_count": null,
   "metadata": {},
   "outputs": [],
   "source": []
  }
 ]
}